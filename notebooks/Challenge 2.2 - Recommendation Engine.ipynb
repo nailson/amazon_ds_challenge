{
 "cells": [
  {
   "cell_type": "markdown",
   "metadata": {},
   "source": [
    "# Challenge 2 - Recommendation Engine. Part 2\n",
    "\n",
    "What are the main characteristics of the **\"hot videos\"**?"
   ]
  },
  {
   "cell_type": "code",
   "execution_count": 1,
   "metadata": {
    "collapsed": true
   },
   "outputs": [],
   "source": [
    "# install packages if needed\n",
    "list.of.packages <- c(\"dplyr\",\"lubridate\",\"ggplot2\")\n",
    "new.packages <- list.of.packages[!(list.of.packages %in% installed.packages()[,\"Package\"])]\n",
    "if(length(new.packages)) install.packages(new.packages, repos = \"http://cran.us.r-project.org\")"
   ]
  },
  {
   "cell_type": "code",
   "execution_count": 3,
   "metadata": {
    "collapsed": true
   },
   "outputs": [],
   "source": [
    "library(dplyr)\n",
    "library(lubridate)\n",
    "library(readr)\n",
    "library(ggplot2)\n",
    "options(repr.plot.width=8, repr.plot.height=3)"
   ]
  },
  {
   "cell_type": "markdown",
   "metadata": {},
   "source": [
    "### load the csv files"
   ]
  },
  {
   "cell_type": "code",
   "execution_count": 4,
   "metadata": {
    "collapsed": true
   },
   "outputs": [],
   "source": [
    "# Table 1: video_classified\n",
    "video_classified <- read_csv(\"data/challenge_2/video_classified.csv\", col_types = cols(date = col_character()))\n",
    "\n",
    "# Table 2: video_features\n",
    "video_features <- read_csv(\"data/challenge_2/video_features.csv\", col_types = cols(video_upload_date = col_character()))"
   ]
  },
  {
   "cell_type": "markdown",
   "metadata": {},
   "source": [
    "## Third target: Describe video types\n",
    "* What are the main characteristics of the \"hot videos\"?\n"
   ]
  },
  {
   "cell_type": "markdown",
   "metadata": {},
   "source": [
    "### Joining video_classified with video_features"
   ]
  },
  {
   "cell_type": "code",
   "execution_count": 5,
   "metadata": {},
   "outputs": [
    {
     "name": "stdout",
     "output_type": "stream",
     "text": [
      "Observations: 41,775\n",
      "Variables: 14\n",
      "$ video_id          <int> 1, 1, 1, 1, 1, 1, 1, 1, 1, 1, 1, 1, 1, 1, 1, 2, 2...\n",
      "$ count             <int> 65907, 44774, 94821, 140460, 129082, 19382, 78503...\n",
      "$ date              <chr> \"2015-01-08\", \"2015-01-11\", \"2015-01-05\", \"2015-0...\n",
      "$ overall_count     <int> 1059534, 1059534, 1059534, 1059534, 1059534, 1059...\n",
      "$ is_popular        <lgl> FALSE, FALSE, FALSE, FALSE, FALSE, FALSE, FALSE, ...\n",
      "$ day               <int> 8, 11, 5, 1, 2, 15, 7, 3, 4, 12, 10, 13, 9, 14, 6...\n",
      "$ count_norm        <dbl> 6.379590, 3.936025, 9.722856, 15.000000, 13.68438...\n",
      "$ angular_coef      <dbl> -0.9988875, -0.9988875, -0.9988875, -0.9988875, -...\n",
      "$ angle             <dbl> -44.96811, -44.96811, -44.96811, -44.96811, -44.9...\n",
      "$ classification    <chr> \"Everything else\", \"Everything else\", \"Everything...\n",
      "$ video_length      <int> 1496, 1496, 1496, 1496, 1496, 1496, 1496, 1496, 1...\n",
      "$ video_language    <chr> \"Es\", \"Es\", \"Es\", \"Es\", \"Es\", \"Es\", \"Es\", \"Es\", \"...\n",
      "$ video_upload_date <chr> \"2014-12-04\", \"2014-12-04\", \"2014-12-04\", \"2014-1...\n",
      "$ video_quality     <chr> \"720p\", \"720p\", \"720p\", \"720p\", \"720p\", \"720p\", \"...\n"
     ]
    }
   ],
   "source": [
    "# getting the videos features\n",
    "video_classified_features <- video_classified%>%\n",
    "                             inner_join(\n",
    "                                 video_features,\n",
    "                                 by=\"video_id\"\n",
    "                             )\n",
    "# taking a look at the dataframe structure\n",
    "video_classified_features%>%glimpse()"
   ]
  },
  {
   "cell_type": "markdown",
   "metadata": {},
   "source": [
    "### Video Classification versus Language"
   ]
  },
  {
   "cell_type": "markdown",
   "metadata": {},
   "source": [
    "1. Classification X Language"
   ]
  },
  {
   "cell_type": "code",
   "execution_count": 6,
   "metadata": {},
   "outputs": [
    {
     "data": {},
     "metadata": {},
     "output_type": "display_data"
    },
    {
     "data": {
      "image/png": "[encoded data removed]",
      "text/plain": [
       "plot without title"
      ]
     },
     "metadata": {},
     "output_type": "display_data"
    }
   ],
   "source": [
    "# aggregating and scaling videos for classification and language\n",
    "video_classification_language <- video_classified_features %>% \n",
    "                                 group_by(classification, video_language) %>% \n",
    "                                 summarise(count=n()) %>% \n",
    "                                 mutate(perc=count/sum(count))\n",
    "\n",
    "# plotting as a barchart\n",
    "ggplot(video_classification_language, aes(x = factor(classification), y = perc*100, fill = factor(video_language))) +\n",
    "    geom_bar(stat=\"identity\", width = 0.7) +\n",
    "    labs(x = \"classification\", y = \"percentage (%)\", fill = \"video_language\") +\n",
    "    geom_text(aes(label = round(perc*100, digits=2)), position = position_stack(), vjust = 0.5, hjust=1.2,check_overlap = TRUE) + \n",
    "    theme_minimal(base_size = 14) +\n",
    "    scale_fill_brewer(palette=\"Spectral\") +\n",
    "    coord_flip()"
   ]
  },
  {
   "cell_type": "markdown",
   "metadata": {},
   "source": [
    "<span style=\"color:red\">We can see that the \"Hot\" group has proportionally more videos in English (34.67%). In relation to the other languages it is the middle class. We can affirm that the proportion of videos with English language is a characteristic that differs from the others.\n",
    "</span>"
   ]
  },
  {
   "cell_type": "markdown",
   "metadata": {},
   "source": [
    "<ol start=\"2\">\n",
    "  <li> Language X Classification</li>\n",
    "</ol>"
   ]
  },
  {
   "cell_type": "code",
   "execution_count": 7,
   "metadata": {},
   "outputs": [
    {
     "data": {},
     "metadata": {},
     "output_type": "display_data"
    },
    {
     "data": {
      "image/png": "[encoded data removed]",
      "text/plain": [
       "plot without title"
      ]
     },
     "metadata": {},
     "output_type": "display_data"
    }
   ],
   "source": [
    "# aggregating and scaling videos for language and classification \n",
    "video_classification_language <- video_classified_features %>% \n",
    "                                 group_by(video_language, classification) %>% \n",
    "                                 summarise(count=n()) %>% \n",
    "                                 mutate(perc=count/sum(count))\n",
    "\n",
    "# plotting as a barchart\n",
    "ggplot(video_classification_language, aes(x = factor(video_language), y = perc*100, fill = factor(classification))) +\n",
    "    geom_bar(stat=\"identity\", width = 0.7) +\n",
    "    labs(x = \"language\", y = \"percentage (%)\", fill = \"classification\") +\n",
    "    geom_text(aes(label = round(perc*100, digits=2)), position = position_stack(), vjust = 0.5, hjust=1,check_overlap = TRUE) + \n",
    "    theme_minimal(base_size = 14) +\n",
    "    scale_fill_brewer(palette=\"Set2\") +\n",
    "    coord_flip()\n"
   ]
  },
  {
   "cell_type": "markdown",
   "metadata": {},
   "source": [
    "<span style=\"color:red\">Again, we can see the large presence of the group \"Hot\" videos in English.\n",
    "Videos from other languages (Others) are those that have the least amount of \"Hot\" and \"Stable and Popular\" videos, proportionally.\n",
    "</span>"
   ]
  },
  {
   "cell_type": "markdown",
   "metadata": {},
   "source": [
    "### Video Classification versus Quality"
   ]
  },
  {
   "cell_type": "code",
   "execution_count": 8,
   "metadata": {},
   "outputs": [
    {
     "data": {},
     "metadata": {},
     "output_type": "display_data"
    },
    {
     "data": {
      "image/png": "[encoded data removed]",
      "text/plain": [
       "plot without title"
      ]
     },
     "metadata": {},
     "output_type": "display_data"
    }
   ],
   "source": [
    "# aggregating and scaling videos for classification and quality\n",
    "video_classification_language <- video_classified_features %>% \n",
    "                                 group_by(classification, video_quality) %>% \n",
    "                                 summarise(count=n()) %>% \n",
    "                                 mutate(perc=count/sum(count))\n",
    "\n",
    "# plotting as a barchart\n",
    "ggplot(video_classification_language, aes(x = factor(classification), y = perc*100, fill = factor(video_quality))) +\n",
    "    geom_bar(stat=\"identity\", width = 0.7) +\n",
    "    labs(x = \"classification\", y = \"percent\", fill = \"video quality\") +\n",
    "    geom_text(aes(label = round(perc*100, digits=2)), position = position_stack(), vjust = 0.5, hjust=1.2,check_overlap = TRUE) + \n",
    "    theme_minimal(base_size = 14) +\n",
    "    scale_fill_brewer(palette=\"Spectral\") +\n",
    "    coord_flip()"
   ]
  },
  {
   "cell_type": "markdown",
   "metadata": {},
   "source": [
    "<span style=\"color:red\">\n",
    "The group \"Hot\" has the most videos between 1080p and 720p (28% and 27%, respectively), we have 420p videos only in third place.\n",
    "Compared with other classes, we can also see that the \"Hot\" group has proportionally fewer low quality videos (between 480p and 240p) and more high quality videos (1080p and 720p).</span>"
   ]
  },
  {
   "cell_type": "markdown",
   "metadata": {},
   "source": [
    "### Video Classification versus Length"
   ]
  },
  {
   "cell_type": "code",
   "execution_count": 9,
   "metadata": {},
   "outputs": [
    {
     "data": {},
     "metadata": {},
     "output_type": "display_data"
    },
    {
     "data": {
      "image/png": "[encoded data removed]",
      "text/plain": [
       "plot without title"
      ]
     },
     "metadata": {},
     "output_type": "display_data"
    }
   ],
   "source": [
    "# plotting as a boxplot\n",
    "ggplot(video_classified_features, aes(x = classification, y = video_length, fill = classification)) +\n",
    "    geom_boxplot() +\n",
    "    theme_minimal() +\n",
    "    coord_flip() +\n",
    "    scale_fill_brewer(palette = \"Set2\")"
   ]
  },
  {
   "cell_type": "markdown",
   "metadata": {},
   "source": [
    "<span style=\"color:red\">The videos from the \"Hot\" and \"Stable and Popular\" groups are very similar in relation to the duration of the videos. Compared with \"Everything else\", the \"Hot\" videos are 70% smaller compared to their medians.\n",
    "</span>"
   ]
  },
  {
   "cell_type": "markdown",
   "metadata": {},
   "source": [
    "### Let's add the age (in days) of the videos  "
   ]
  },
  {
   "cell_type": "code",
   "execution_count": 10,
   "metadata": {
    "collapsed": true
   },
   "outputs": [],
   "source": [
    "# last date in the dataset\n",
    "max_date <- max(video_classified_features$date)\n",
    "\n",
    "# getting the age in days of the videos\n",
    "video_classified_features <- video_classified_features%>%\n",
    "                            mutate(\n",
    "                                age_days = as.integer(difftime(as.Date(max_date),as.Date(video_upload_date), units=\"days\"))\n",
    "                            )"
   ]
  },
  {
   "cell_type": "code",
   "execution_count": 11,
   "metadata": {},
   "outputs": [
    {
     "data": {},
     "metadata": {},
     "output_type": "display_data"
    },
    {
     "data": {
      "image/png": "[encoded data removed]",
      "text/plain": [
       "plot without title"
      ]
     },
     "metadata": {},
     "output_type": "display_data"
    }
   ],
   "source": [
    "# plotting as a boxplot\n",
    "ggplot(video_classified_features, aes(x = classification, y = age_days, fill = classification)) +\n",
    "    geom_boxplot() +\n",
    "    theme_minimal() +\n",
    "    coord_flip() +\n",
    "    scale_fill_brewer(palette = \"Set2\")"
   ]
  },
  {
   "cell_type": "markdown",
   "metadata": {},
   "source": [
    "<span style=\"color:red\">\n",
    "We do not have a wide variety of ages for the videos, but we can see that the \"Hot\" and \"Stable and Popular\" groups have videos with release dates prior to the \"Everything else\".\n",
    "</span>"
   ]
  },
  {
   "cell_type": "markdown",
   "metadata": {},
   "source": [
    "### Resume the characteristics of the \"hot videos\""
   ]
  },
  {
   "cell_type": "markdown",
   "metadata": {},
   "source": [
    "The videos classified as hot, are generally videos of good quality (1080-480p). Compared to other classes, it has the highest proportion of videos in English (~ 34%), on average shorter videos, comparable to the \"stable and popular\". \n",
    "In comparison to age (publication day), the hot videos are in average a few days more recent than the others (28 days).\n",
    "* “Hot”, “Stable and Popular” are in general short videos with good video quality\n",
    "* Videos in English are the most “Hot” videos, and Chinese videos are usually the most \"Stable and Popular\"\n"
   ]
  },
  {
   "cell_type": "markdown",
   "metadata": {},
   "source": [
    "## Forth Target: Identify an opportunity\n",
    "After having identified the characteristics of the hot videos, how would you use this information from a product standpoint?"
   ]
  },
  {
   "cell_type": "markdown",
   "metadata": {},
   "source": [
    "I believe that with the information of the most important characteristics of some types of videos, the company could automate the selection of videos from the homepage for new users, highlighting videos that have similar characteristics with \"HOT\" and \"Stable and popular\" such as short videos with good video quality or prioritize videos in English (classified as hot) or Chinese (stable and popular). This approach could also help in the selection and ranking of new videos that are published. However we must always be careful about the impact and bias that this type of approach may entail."
   ]
  }
 ],
 "metadata": {
  "kernelspec": {
   "display_name": "R",
   "language": "R",
   "name": "ir"
  },
  "language_info": {
   "codemirror_mode": "r",
   "file_extension": ".r",
   "mimetype": "text/x-r-source",
   "name": "R",
   "pygments_lexer": "r",
   "version": "3.4.2"
  }
 },
 "nbformat": 4,
 "nbformat_minor": 2
}
