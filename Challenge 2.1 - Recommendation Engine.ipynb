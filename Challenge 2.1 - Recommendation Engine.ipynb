{
 "cells": [
  {
   "cell_type": "markdown",
   "metadata": {},
   "source": [
    "# Challenge 2 - Recommendation Engine\n",
    "\n",
    "Build a recommendation engine for company ABC’s video streaming product. Currently, the videos shown on their home page to new users are manually chosen and you need to implement a recommendation engine to increase the conversation rate.\n",
    "\n",
    "You have been presented with the following business questions:\n",
    "1. Classify each video into the following buckets: \n",
    "    * **\"Hot\"** - means trending up. These videos are candidates to be shown.\n",
    "    * **\"Stable and Popular\"** - video view counts are flat, but very high. These videos are candidates to be shown too.\n",
    "    * **\"Everything else\"** - these videos won't be shown.\n",
    "2. What are the main characteristics of the \"hot videos\"?\n",
    "3. After having identified the characteristics of the hot videos, how would you use this information from a product standpoint?\n"
   ]
  },
  {
   "cell_type": "code",
   "execution_count": 2,
   "metadata": {},
   "outputs": [],
   "source": [
    "# install packages if needed\n",
    "list.of.packages <- c(\"dplyr\",\"lubridate\",\"ggplot2\")\n",
    "new.packages <- list.of.packages[!(list.of.packages %in% installed.packages()[,\"Package\"])]\n",
    "if(length(new.packages)) install.packages(new.packages, repos = \"http://cran.us.r-project.org\")"
   ]
  },
  {
   "cell_type": "code",
   "execution_count": 4,
   "metadata": {},
   "outputs": [],
   "source": [
    "library(dplyr)\n",
    "library(lubridate)\n",
    "library(readr)\n",
    "library(ggplot2)\n",
    "options(repr.plot.width=8, repr.plot.height=3)"
   ]
  },
  {
   "cell_type": "markdown",
   "metadata": {},
   "source": [
    "### Initially, load the csv files"
   ]
  },
  {
   "cell_type": "code",
   "execution_count": 5,
   "metadata": {
    "collapsed": true
   },
   "outputs": [],
   "source": [
    "# Table 1: user_table\n",
    "video_count <- read_csv(\"data/challenge_2/video_count.csv\", col_types = cols(date = col_character()))\n",
    "\n",
    "# Table 2: video_features\n",
    "video_features <- read_csv(\"data/challenge_2/video_features.csv\", col_types = cols(video_upload_date = col_character()))"
   ]
  },
  {
   "cell_type": "markdown",
   "metadata": {},
   "source": [
    "## First target : Define popular videos\n",
    "Solution: The videos that have high number of views "
   ]
  },
  {
   "cell_type": "code",
   "execution_count": 6,
   "metadata": {},
   "outputs": [
    {
     "data": {
      "image/png": "[encoded data removed]",
      "text/plain": [
       "Plot with title \"Overall Videos Visualizations\""
      ]
     },
     "metadata": {},
     "output_type": "display_data"
    }
   ],
   "source": [
    "# sum the views count\n",
    "video_count_pop <- video_count%>%\n",
    "                   group_by(video_id)%>%\n",
    "                   summarise(\n",
    "                     overall_count=sum(count)\n",
    "                   )\n",
    "\n",
    "# checking the distribution\n",
    "hist(video_count_pop$overall_count, breaks=40, main=\"Overall Videos Visualizations\", xlab=\"Views\")                "
   ]
  },
  {
   "cell_type": "code",
   "execution_count": 7,
   "metadata": {},
   "outputs": [
    {
     "data": {
      "image/png": "[encoded data removed]",
      "text/plain": [
       "Plot with title \"Videos Visualizations Boxplot\""
      ]
     },
     "metadata": {},
     "output_type": "display_data"
    }
   ],
   "source": [
    "# Checking the boxplot and quartiles\n",
    "boxplot(video_count_pop$overall_count, horizontal = TRUE, main=\"Videos Visualizations Boxplot\", xlab=\"Views\")\n",
    "\n",
    "# We decided to use the 3rd quartile as a threshold of popular videos \n",
    "pop_q3rd <- quantile(video_count_pop$overall_count)[4]\n",
    "\n",
    "# Let's classify is_popular using the threshold\n",
    "video_count_pop <- video_count_pop%>%\n",
    "                   mutate(\n",
    "                     is_popular=ifelse(overall_count>pop_q3rd,TRUE, FALSE)                               \n",
    "                   )\n",
    "\n",
    "# Now we have popular video information\n",
    "video_popular <- video_count%>%\n",
    "                 inner_join(\n",
    "                   video_count_pop,\n",
    "                   by = \"video_id\"\n",
    "                 )"
   ]
  },
  {
   "cell_type": "markdown",
   "metadata": {},
   "source": [
    "## Second target : Classifying trends, stable and others for views timeseries\n",
    "Solution: Extract the angular coefficient of a linear regression of video counts over time"
   ]
  },
  {
   "cell_type": "code",
   "execution_count": 8,
   "metadata": {
    "collapsed": true
   },
   "outputs": [],
   "source": [
    "# Defining utilities functions\n",
    "\n",
    "# normalize the count to get the right coefficient and angle\n",
    "normalize_range<-function(column, min_value, max_value){\n",
    "    ((column - min(column)) / (max(column) - min(column)))*(max_value-min_value)+min_value\n",
    "}\n",
    "\n",
    "# get angular coefficient and angle of the linear regression\n",
    "get_angular_coefficient<-function(video_count_agg){\n",
    "    # normalize count range\n",
    "    video_count_agg$count_norm = normalize_range(video_count_agg$count, 1,length(video_count_agg$count))\n",
    "    # run regression\n",
    "    model = lm(count_norm ~ day, data=video_count_agg)\n",
    "    # extract the angular coefficient and angle of the regression line\n",
    "    video_count_agg$angular_coef = coef(model)[2]\n",
    "    video_count_agg$angle = atan( video_count_agg$angular_coef) * 180 / pi\n",
    "    video_count_agg\n",
    "}"
   ]
  },
  {
   "cell_type": "code",
   "execution_count": 9,
   "metadata": {
    "collapsed": true
   },
   "outputs": [],
   "source": [
    "# Some transformations\n",
    "video_popular <- video_popular%>%\n",
    "                 mutate(\n",
    "                   date = ymd(date),\n",
    "                   day = day(date)\n",
    "                 )\n",
    "# using mutate to get the coefficient and angle\n",
    "video_count_coef <- video_popular%>%\n",
    "                    group_by(video_id)%>%\n",
    "                    do(get_angular_coefficient(.))%>%\n",
    "                    ungroup()"
   ]
  },
  {
   "cell_type": "markdown",
   "metadata": {},
   "source": [
    "### Checking the distribution of the angle"
   ]
  },
  {
   "cell_type": "code",
   "execution_count": 10,
   "metadata": {},
   "outputs": [
    {
     "data": {
      "text/plain": [
       "   Min. 1st Qu.  Median    Mean 3rd Qu.    Max. \n",
       " -53.47  -42.87  -31.15  -10.83   33.73   51.17 "
      ]
     },
     "metadata": {},
     "output_type": "display_data"
    },
    {
     "data": {
      "image/png": "[encoded data removed]",
      "text/plain": [
       "Plot with title \"Linear Regression Angle Histogram\""
      ]
     },
     "metadata": {},
     "output_type": "display_data"
    }
   ],
   "source": [
    "hist(video_count_coef$angle, breaks=20, main=\"Linear Regression Angle Histogram\", xlab=\"Degrees\")\n",
    "abline(v=c(-30,30), col=c(\"red\", \"red\"), lty=c(2,2), lwd=c(3, 3))\n",
    "\n",
    "summary(video_count_coef$angle)"
   ]
  },
  {
   "cell_type": "markdown",
   "metadata": {},
   "source": [
    "<span style=\"color:red\">It's a bimodal distribution, we don't want to use quantiles or z-score as thresholds. So, we will visually select -30° to 30° to be our threshold. </span>"
   ]
  },
  {
   "cell_type": "markdown",
   "metadata": {},
   "source": [
    "### Defining trend as angle < 30°, stationary between -30° and 30°"
   ]
  },
  {
   "cell_type": "code",
   "execution_count": 11,
   "metadata": {
    "collapsed": true
   },
   "outputs": [],
   "source": [
    "angle_sup=30\n",
    "angle_inf=-30"
   ]
  },
  {
   "cell_type": "markdown",
   "metadata": {},
   "source": [
    "### Wrapping things up \n"
   ]
  },
  {
   "cell_type": "code",
   "execution_count": 12,
   "metadata": {},
   "outputs": [
    {
     "data": {
      "text/html": [
       "<table>\n",
       "<thead><tr><th scope=col>classification</th><th scope=col>n</th></tr></thead>\n",
       "<tbody>\n",
       "\t<tr><td>Everything else   </td><td>25800             </td></tr>\n",
       "\t<tr><td>Hot               </td><td>11595             </td></tr>\n",
       "\t<tr><td>Stable and Popular</td><td> 4380             </td></tr>\n",
       "</tbody>\n",
       "</table>\n"
      ],
      "text/latex": [
       "\\begin{tabular}{r|ll}\n",
       " classification & n\\\\\n",
       "\\hline\n",
       "\t Everything else    & 25800             \\\\\n",
       "\t Hot                & 11595             \\\\\n",
       "\t Stable and Popular &  4380             \\\\\n",
       "\\end{tabular}\n"
      ],
      "text/markdown": [
       "\n",
       "classification | n | \n",
       "|---|---|---|\n",
       "| Everything else    | 25800              | \n",
       "| Hot                | 11595              | \n",
       "| Stable and Popular |  4380              | \n",
       "\n",
       "\n"
      ],
      "text/plain": [
       "  classification     n    \n",
       "1 Everything else    25800\n",
       "2 Hot                11595\n",
       "3 Stable and Popular  4380"
      ]
     },
     "metadata": {},
     "output_type": "display_data"
    }
   ],
   "source": [
    "video_classified <- video_count_coef%>%\n",
    "                    mutate(\n",
    "                       classification=ifelse(angle>=angle_sup,\"Hot\", \"Everything else\"),\n",
    "                       classification=ifelse(angle<angle_sup & angle>angle_inf & is_popular,\"Stable and Popular\", classification ) \n",
    "                    )\n",
    "\n",
    "video_classified%>%count(classification)"
   ]
  },
  {
   "cell_type": "markdown",
   "metadata": {},
   "source": [
    "### Awesome, now put this in a file"
   ]
  },
  {
   "cell_type": "code",
   "execution_count": 13,
   "metadata": {
    "collapsed": true
   },
   "outputs": [],
   "source": [
    "write.csv(video_classified, \"data/challenge_2/video_classified.csv\", row.names=F)"
   ]
  },
  {
   "cell_type": "markdown",
   "metadata": {},
   "source": [
    "## Third target: Describe video types\n",
    "* What are the main characteristics of the \"hot videos\"?\n",
    "* After having identified the characteristics of the hot videos, how would you use this information from a product standpoint?"
   ]
  },
  {
   "cell_type": "markdown",
   "metadata": {},
   "source": [
    "<span style=\"color:red\">Please, for this solution check the link to [Notebook 2.2](Challenge 2.2 - Recommendation Engine.ipynb)</span>"
   ]
  }
 ],
 "metadata": {
  "kernelspec": {
   "display_name": "R",
   "language": "R",
   "name": "ir"
  },
  "language_info": {
   "codemirror_mode": "r",
   "file_extension": ".r",
   "mimetype": "text/x-r-source",
   "name": "R",
   "pygments_lexer": "r",
   "version": "3.4.2"
  }
 },
 "nbformat": 4,
 "nbformat_minor": 2
}
