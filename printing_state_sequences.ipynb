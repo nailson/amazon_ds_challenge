{
 "cells": [
  {
   "cell_type": "code",
   "execution_count": 1,
   "metadata": {
    "collapsed": true
   },
   "outputs": [],
   "source": [
    "import pyspark.sql.functions as f \n",
    "\n",
    "dataframe = spark.sql(\"select distinct * from consumables.ecm_pdc_lifespan_relevant_features_stage_1 \").cache()"
   ]
  },
  {
   "cell_type": "code",
   "execution_count": 2,
   "metadata": {
    "collapsed": true
   },
   "outputs": [],
   "source": [
    "dataframe.select(f.col('MachineState')).distinct().show()"
   ]
  },
  {
   "cell_type": "code",
   "execution_count": 3,
   "metadata": {
    "collapsed": true
   },
   "outputs": [],
   "source": [
    "dataframe = dataframe.withColumn('isPrintingState', f.when(f.col('MachineState')=='PRINT_STATE', 1).otherwise(None))"
   ]
  },
  {
   "cell_type": "code",
   "execution_count": 4,
   "metadata": {
    "collapsed": true
   },
   "outputs": [],
   "source": [
    "from rulex.contiguous_time_series import get_contiguous_data\n",
    "\n",
    "group_by_columns = ['press', 'replacement_id']\n",
    "order_by_columns = ['rawTime','TotalImpressions']\n",
    "date_column = 'rawTime'\n",
    "column_names = ['isPrintingState']\n",
    "\n",
    "#contiguous_printing = get_contiguous_data(dataframe.filter(\"replacement_id='5000012236'\"), column_names, group_by_columns, order_by_columns, date_column, ts_min_days = 0).cache()\n",
    "contiguous_printing = get_contiguous_data(dataframe, column_names, group_by_columns, order_by_columns, date_column, ts_min_days = 0).cache()\n",
    "\n",
    "print(\"Original Dataset:{}\\nNew Dataset:{}rows\".format( dataframe.count(),contiguous_printing.count()))"
   ]
  },
  {
   "cell_type": "markdown",
   "metadata": {},
   "source": [
    "### Session Type Analysis"
   ]
  },
  {
   "cell_type": "code",
   "execution_count": 6,
   "metadata": {
    "collapsed": true
   },
   "outputs": [],
   "source": [
    "contiguous_printing_agg =  (contiguous_printing\n",
    "  .groupBy('time_series_id')\n",
    "  .agg(\n",
    "    f.count(f.col('time_series_id')).alias(\"rows_count\"),\n",
    "    (f.max(f.col('rawTime'))-f.min(f.col('rawTime'))).alias(\"time_delta\"),\n",
    "    (f.max(f.col('TotalImpressions'))-f.min(f.col('TotalImpressions'))).alias(\"impressions_delta\")\n",
    "  ))"
   ]
  },
  {
   "cell_type": "code",
   "execution_count": 7,
   "metadata": {
    "collapsed": true
   },
   "outputs": [],
   "source": [
    "contiguous_printing_agg = contiguous_printing_agg\\\n",
    "                    .withColumn('Session_type', \n",
    "                        f.when(f.col('impressions_delta')<30, 'Calibration Session')\n",
    "                        .when(f.col('impressions_delta')<=150, 'Short Session')\n",
    "                        .when(f.col('impressions_delta')>1500, 'Long Session')\n",
    "                        .otherwise(\"Medium Session\"))\n",
    "\n",
    "display(contiguous_printing_agg.groupBy('Session_type').count())"
   ]
  },
  {
   "cell_type": "code",
   "execution_count": 8,
   "metadata": {
    "collapsed": true
   },
   "outputs": [],
   "source": [
    "contiguous_printing_new = contiguous_printing.join(contiguous_printing_agg, on=\"time_series_id\",how='inner')\n",
    "\n",
    "contiguous_printing_session_type = (contiguous_printing_new\n",
    "  .groupBy('press','replacement_id','LifeSpan')\n",
    "  .pivot('Session_type')\n",
    "  .count())\n",
    "\n",
    "contiguous_printing_session_type = (contiguous_printing_session_type\n",
    "  .na.fill(0)\n",
    "  .withColumn(\n",
    "    'session_count', f.col('Long Session')+f.col('Medium Session')+f.col('Short Session')\n",
    "  ))\n",
    "\n",
    "columns_list = ['Long Session','Medium Session','Short Session']\n",
    "\n",
    "contiguous_printing_session_type = (contiguous_printing_session_type\n",
    "  .withColumn('Long Session ratio', f.col('Long Session')/f.col('session_count'))\n",
    "  .withColumn('Medium Session ratio', f.col('Medium Session')/f.col('session_count'))\n",
    "  .withColumn('Short Session ratio' , f.col('Short Session')/f.col('session_count'))\n",
    "  .withColumn('Calibration Session ratio' , f.col('Calibration Session')/f.col('session_count'))\n",
    ")\n",
    "\n",
    "display(contiguous_printing_session_type.limit(10))"
   ]
  },
  {
   "cell_type": "code",
   "execution_count": 9,
   "metadata": {
    "collapsed": true
   },
   "outputs": [],
   "source": [
    "corr_list = ['Long Session','Medium Session','Short Session','session_count','Long Session ratio','Medium Session ratio','Short Session ratio','Calibration Session ratio']\n",
    "display(contiguous_printing_session_type.select([f.corr(f.col(column),'LifeSpan').alias(column+'_corr') for column in corr_list]))"
   ]
  },
  {
   "cell_type": "markdown",
   "metadata": {},
   "source": [
    "## Filtering by Sessions Length, Impressions and time"
   ]
  },
  {
   "cell_type": "code",
   "execution_count": 11,
   "metadata": {
    "collapsed": true
   },
   "outputs": [],
   "source": [
    "rows_count = contiguous_printing_agg.approxQuantile('rows_count',[.25,.5,.75],0.001)\n",
    "time_delta = contiguous_printing_agg.approxQuantile('time_delta',[.25,.5,.75],0.001)\n",
    "impressions_delta = contiguous_printing_agg.approxQuantile('impressions_delta',[.25,.5,.75],0.001)\n",
    "\n",
    "print(\"Rows Count: {0}\\n Time Delta: {1}\\n Impressions Delta: {2}\".format(rows_count,time_delta,impressions_delta))"
   ]
  },
  {
   "cell_type": "code",
   "execution_count": 12,
   "metadata": {
    "collapsed": true
   },
   "outputs": [],
   "source": [
    "contiguous_printing_agg.approxQuantile('time_delta',[.25,.5,.75],0.001)"
   ]
  },
  {
   "cell_type": "code",
   "execution_count": 13,
   "metadata": {
    "collapsed": true
   },
   "outputs": [],
   "source": [
    "contiguous_printing_agg"
   ]
  },
  {
   "cell_type": "code",
   "execution_count": 14,
   "metadata": {
    "collapsed": true
   },
   "outputs": [],
   "source": [
    "contiguous_printing_agg.filter(\"impressions_delta>1500\").count()"
   ]
  },
  {
   "cell_type": "code",
   "execution_count": 15,
   "metadata": {
    "collapsed": true
   },
   "outputs": [],
   "source": [
    "display(contiguous_printing_agg.filter(\"impressions_delta>=1000\"))"
   ]
  },
  {
   "cell_type": "code",
   "execution_count": 16,
   "metadata": {
    "collapsed": true
   },
   "outputs": [],
   "source": [
    "#contiguous_printing_agg.count()\n",
    "contiguous_printing_agg_filtered = contiguous_printing_agg.filter(\"impressions_delta>=1000 and time_delta>100 and rows_count>=30\")"
   ]
  },
  {
   "cell_type": "code",
   "execution_count": 17,
   "metadata": {
    "collapsed": true
   },
   "outputs": [],
   "source": [
    "display(contiguous_printing_agg_filtered)"
   ]
  },
  {
   "cell_type": "code",
   "execution_count": 18,
   "metadata": {
    "collapsed": true
   },
   "outputs": [],
   "source": [
    "contiguous_printing2 = contiguous_printing.join(contiguous_printing_agg, on=\"time_series_id\",how='inner')"
   ]
  },
  {
   "cell_type": "code",
   "execution_count": 19,
   "metadata": {
    "collapsed": true
   },
   "outputs": [],
   "source": [
    "#contiguous_printing_agg.coalesce(1).write.csv('mnt/testdev-input-csv/contiguous_imp.csv', 'overwrite')"
   ]
  },
  {
   "cell_type": "code",
   "execution_count": 20,
   "metadata": {
    "collapsed": true
   },
   "outputs": [],
   "source": [
    "dataframe.filter(\"MachineState='PRINT_STATE'\").count()"
   ]
  },
  {
   "cell_type": "code",
   "execution_count": 21,
   "metadata": {
    "collapsed": true
   },
   "outputs": [],
   "source": [
    "contiguous_printing2 = contiguous_printing2.drop(\"MachineState\",\"isPrintingState\")"
   ]
  },
  {
   "cell_type": "code",
   "execution_count": 22,
   "metadata": {
    "collapsed": true
   },
   "outputs": [],
   "source": [
    "distinct_pip = contiguous_printing2.select(['replacement_id','time_series_id','impressions_delta', 'LifeSpan']).distinct()"
   ]
  },
  {
   "cell_type": "code",
   "execution_count": 23,
   "metadata": {
    "collapsed": true
   },
   "outputs": [],
   "source": [
    "distinct_pip = distinct_pip.withColumn('Session', f.when(f.col('impressions_delta')<=150, 'Short Session').otherwise(\"Medium Session\"))\n",
    "distinct_pip = distinct_pip.withColumn('Session', f.when(f.col('impressions_delta')>1500, 'Long Session').otherwise(f.col('Session')))"
   ]
  },
  {
   "cell_type": "code",
   "execution_count": 24,
   "metadata": {
    "collapsed": true
   },
   "outputs": [],
   "source": [
    "distinct_pip.count()"
   ]
  },
  {
   "cell_type": "code",
   "execution_count": 25,
   "metadata": {
    "collapsed": true
   },
   "outputs": [],
   "source": [
    "distinct_pip.coalesce(1).write.csv('mnt/testdev-input-csv/distinct_pip_imp.csv', 'overwrite')"
   ]
  },
  {
   "cell_type": "code",
   "execution_count": 26,
   "metadata": {
    "collapsed": true
   },
   "outputs": [],
   "source": [
    "display(distinct_pip.orderBy('replacement_id','time_series_id'))"
   ]
  },
  {
   "cell_type": "code",
   "execution_count": 27,
   "metadata": {
    "collapsed": true
   },
   "outputs": [],
   "source": []
  }
 ],
 "metadata": {
  "kernelspec": {
   "display_name": "Python 3",
   "language": "python",
   "name": "python3"
  },
  "language_info": {
   "codemirror_mode": {
    "name": "ipython",
    "version": 3
   },
   "file_extension": ".py",
   "mimetype": "text/x-python",
   "name": "python",
   "nbconvert_exporter": "python",
   "pygments_lexer": "ipython3",
   "version": "3.6.1"
  },
  "name": "printing_state_sequences",
  "notebookId": 72143
 },
 "nbformat": 4,
 "nbformat_minor": 1
}
